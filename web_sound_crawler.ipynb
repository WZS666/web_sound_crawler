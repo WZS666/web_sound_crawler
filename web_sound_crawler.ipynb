{
  "nbformat": 4,
  "nbformat_minor": 0,
  "metadata": {
    "colab": {
      "name": "web_sound_crawler.ipynb",
      "provenance": [],
      "collapsed_sections": []
    },
    "kernelspec": {
      "name": "python3",
      "display_name": "Python 3"
    },
    "language_info": {
      "name": "python"
    }
  },
  "cells": [
    {
      "cell_type": "code",
      "source": [
        "import requests\n",
        "from bs4 import BeautifulSoup"
      ],
      "metadata": {
        "id": "0MdZPz4F7d_Y"
      },
      "execution_count": 1,
      "outputs": []
    },
    {
      "cell_type": "code",
      "source": [
        "def get_web(url):\n",
        "  # Use headers to pass anti-crawler\n",
        "  headers = requests.utils.default_headers()\n",
        "  headers.update(\n",
        "      {\n",
        "          'User-Agent': 'Mozilla/5.0 (Windows NT 6.1) AppleWebKit/537.2 (KHTML, like Gecko) Chrome/22.0.1216.0 Safari/537.2',\n",
        "      }\n",
        "  )\n",
        "  # Get website's information\n",
        "  response = requests.get(url, headers=headers).text\n",
        "  soup = BeautifulSoup(response,'lxml')\n",
        "  song = soup.find_all('tr')\n",
        "  get_link = []\n",
        "  get_name = []\n",
        "  for link in soup.findAll('a'):\n",
        "    if link.get('href') == None: # pass the None type\n",
        "      continue\n",
        "    elif link.get('href')[-4:] == '.wav' or link.get('href')[-4:] == '.mp3': # only download .mp3/.wav\n",
        "      get_name.append(link.text)\n",
        "      get_link.append(link.get('href')) # + https://www.pacdv.com/sounds/\n",
        "  return get_name,get_link,headers"
      ],
      "metadata": {
        "id": "WTq9GEYaNtgA"
      },
      "execution_count": 2,
      "outputs": []
    },
    {
      "cell_type": "code",
      "source": [
        "# download sound files\n",
        "def download(url,file_name,headers):\n",
        "  file_name = file_name.replace('/','_') + \".wav\" # replace '/' otherwise it'll get error\n",
        "  with open(file_name, \"wb\") as file:\n",
        "    response = requests.get('https://www.pacdv.com/sounds/'+url, headers=headers)\n",
        "    file.write(response.content)"
      ],
      "metadata": {
        "id": "_nCmF25UXukN"
      },
      "execution_count": 3,
      "outputs": []
    },
    {
      "cell_type": "code",
      "source": [
        "get_name,get_link,headers = get_web('https://www.pacdv.com/sounds/domestic_sounds.html') # website's url\n",
        "\n",
        "# download all sound files\n",
        "for i,j in enumerate(get_name):\n",
        "  download(get_link[i],j,headers)"
      ],
      "metadata": {
        "id": "KkU_W_bTO3qz"
      },
      "execution_count": 4,
      "outputs": []
    },
    {
      "cell_type": "code",
      "source": [
        "# mount Google drive\n",
        "from google.colab import drive\n",
        "drive.mount('/content/gdrive') # LogIn Google drive\n",
        "!mv *.wav \"./gdrive/MyDrive/pacDV_sound/domestic/\" # mv download .wav to google drive dataset path"
      ],
      "metadata": {
        "id": "aNDFRHmgaF3G"
      },
      "execution_count": 5,
      "outputs": []
    },
    {
      "cell_type": "markdown",
      "source": [
        "### Wav Sub-sampling"
      ],
      "metadata": {
        "id": "dem4qeflsbOd"
      }
    },
    {
      "cell_type": "code",
      "source": [
        "import os\n",
        "import librosa\n",
        "import soundfile as sf\n",
        "import matplotlib.pyplot as plt"
      ],
      "metadata": {
        "id": "Nj6EctkRZM5e"
      },
      "execution_count": 6,
      "outputs": []
    },
    {
      "cell_type": "code",
      "source": [
        "pacDV_path = './gdrive/MyDrive/pacDV_sound/'\n",
        "for i in os.listdir(pacDV_path):\n",
        "  for j in os.listdir(pacDV_path + str(i)):\n",
        "    y, sample_rate = librosa.load(pacDV_path+str(i)+'/'+str(j))\n",
        "    sf.write('./gdrive/MyDrive/pac_16k/'+i+'/'+j,y,16000,'PCM_16')"
      ],
      "metadata": {
        "id": "QxffM3KnC9HZ"
      },
      "execution_count": 7,
      "outputs": []
    },
    {
      "cell_type": "code",
      "source": [
        "y_plot,sr_plot = librosa.load('./gdrive/MyDrive/pacDV_sound/Domestic/Bathroom Faucet.wav')\n",
        "y_plot_441,sr_plot_441 = librosa.load('./gdrive/MyDrive/pacDV_sound/Domestic/Bathroom Faucet.wav',sr=44100)\n",
        "y_plot_16,sr_plot_16 = librosa.load('./gdrive/MyDrive/pacDV_sound/Domestic/Bathroom Faucet.wav',sr=16000)"
      ],
      "metadata": {
        "id": "gJ3keo3khF4x"
      },
      "execution_count": 8,
      "outputs": []
    },
    {
      "cell_type": "code",
      "source": [
        "print(sr_plot,sr_plot_16,sr_plot_441)"
      ],
      "metadata": {
        "colab": {
          "base_uri": "https://localhost:8080/"
        },
        "id": "J7ySUiNm9l2J",
        "outputId": "dce624b8-ef07-405a-dc3f-fb5adcbe137f"
      },
      "execution_count": 227,
      "outputs": [
        {
          "output_type": "stream",
          "name": "stdout",
          "text": [
            "22050 16000 44100\n"
          ]
        }
      ]
    },
    {
      "cell_type": "code",
      "source": [
        "import librosa.display"
      ],
      "metadata": {
        "id": "gbGo4ON3uKm6"
      },
      "execution_count": 228,
      "outputs": []
    },
    {
      "cell_type": "code",
      "source": [
        "fig, ax = plt.subplots(nrows=1, sharex=True)\n",
        "ax.set(xlim=[1.001, 1.007], title='Sample rate', ylim=[-0.05, 0.05])\n",
        "ax.set_facecolor((0.5, 0.5, 0.5, 0.5))\n",
        "ax.grid(color='white')\n",
        "librosa.display.waveshow(y_plot_16, sr=sr_plot_16,color='b', alpha=0.5, ax=ax, label='Down_Sampled_rate,16,000 Hz')\n",
        "librosa.display.waveshow(y_plot, sr=sr_plot, color='r', alpha=0.5, ax=ax, label='Default_Sample_rate,22,050 Hz')\n",
        "librosa.display.waveshow(y_plot_441, sr=sr_plot_441,color='g', alpha=0.5, ax=ax, label='Raw_Sample_rate,44,100 Hz')\n",
        "ax.label_outer()\n",
        "ax.legend()"
      ],
      "metadata": {
        "colab": {
          "base_uri": "https://localhost:8080/",
          "height": 312
        },
        "id": "59NY7ml8gVVT",
        "outputId": "3ce59349-46cb-425e-c853-08fd491d0f22"
      },
      "execution_count": 235,
      "outputs": [
        {
          "output_type": "execute_result",
          "data": {
            "text/plain": [
              "<matplotlib.legend.Legend at 0x7f620cfdca10>"
            ]
          },
          "metadata": {},
          "execution_count": 235
        },
        {
          "output_type": "display_data",
          "data": {
            "text/plain": [
              "<Figure size 432x288 with 1 Axes>"
            ],
            "image/png": "[encoded data removed]"
          },
          "metadata": {
            "needs_background": "light"
          }
        }
      ]
    },
    {
      "cell_type": "code",
      "source": [
        ""
      ],
      "metadata": {
        "id": "CUPcWjWFuDtR"
      },
      "execution_count": null,
      "outputs": []
    }
  ]
}